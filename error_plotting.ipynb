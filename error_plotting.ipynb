{
 "cells": [
  {
   "cell_type": "markdown",
   "id": "09637136",
   "metadata": {},
   "source": [
    "Notebook for creating error figures for kernel interpolation approximation on lengthscale informed sparse grids."
   ]
  },
  {
   "cell_type": "code",
   "execution_count": 10,
   "id": "6e0c4609",
   "metadata": {},
   "outputs": [],
   "source": [
    "import numpy as np\n",
    "import matplotlib.pyplot as plt\n",
    "\n",
    "import psg_emulator_v2 as em\n",
    "from kernel_test_function import randomKernelFunc"
   ]
  },
  {
   "cell_type": "markdown",
   "id": "6d831cd7",
   "metadata": {},
   "source": [
    "Define parameters"
   ]
  },
  {
   "cell_type": "code",
   "execution_count": 11,
   "id": "d0c6188f",
   "metadata": {},
   "outputs": [],
   "source": [
    "dim_list = [4,10,20]\n",
    "level_list = [i for i in range(7)]\n",
    "penalty = [i-1 for i in range(21)]\n",
    "nu_list = [1.5 for i in range(21)]\n",
    "lengthscale_list = [2**p for p in penalty]\n",
    "sigma_list = [1. for i in range(20)]\n",
    "no_mc_points = 1000\n",
    "num_kernels = 10"
   ]
  },
  {
   "cell_type": "code",
   "execution_count": 12,
   "id": "3001db89",
   "metadata": {},
   "outputs": [
    {
     "data": {
      "text/plain": [
       "[1.5,\n",
       " 1.5,\n",
       " 1.5,\n",
       " 1.5,\n",
       " 1.5,\n",
       " 1.5,\n",
       " 1.5,\n",
       " 1.5,\n",
       " 1.5,\n",
       " 1.5,\n",
       " 1.5,\n",
       " 1.5,\n",
       " 1.5,\n",
       " 1.5,\n",
       " 1.5,\n",
       " 1.5,\n",
       " 1.5,\n",
       " 1.5,\n",
       " 1.5,\n",
       " 1.5,\n",
       " 1.5]"
      ]
     },
     "execution_count": 12,
     "metadata": {},
     "output_type": "execute_result"
    }
   ],
   "source": [
    "nu_list"
   ]
  },
  {
   "cell_type": "markdown",
   "id": "c0849a01",
   "metadata": {},
   "source": [
    "Loop over levels"
   ]
  },
  {
   "cell_type": "code",
   "execution_count": 13,
   "id": "a8bc22cd",
   "metadata": {},
   "outputs": [
    {
     "name": "stdout",
     "output_type": "stream",
     "text": [
      "multi-index\n",
      "(0, 0, 0, 0)\n",
      "L_component\n",
      "[[1.         0.         0.        ]\n",
      " [0.78488765 0.6196381  0.        ]\n",
      " [0.48335772 0.65442416 0.58145879]]\n",
      "L_component\n",
      "[[1.]]\n",
      "L_component\n",
      "[[1.]]\n",
      "L_component\n",
      "[[1.]]\n",
      "keys\n",
      "[(-0.25, 0.0, 0.0, 0.0), (0.0, 0.0, 0.0, 0.0), (0.25, 0.0, 0.0, 0.0)]\n"
     ]
    },
    {
     "ename": "KeyError",
     "evalue": "(-0.25, 0.0, 0.0, 0.0)",
     "output_type": "error",
     "traceback": [
      "\u001b[0;31m---------------------------------------------------------------------------\u001b[0m",
      "\u001b[0;31mKeyError\u001b[0m                                  Traceback (most recent call last)",
      "Cell \u001b[0;32mIn[13], line 12\u001b[0m\n\u001b[1;32m      9\u001b[0m L2_error_list \u001b[38;5;241m=\u001b[39m []\n\u001b[1;32m     10\u001b[0m \u001b[38;5;28;01mfor\u001b[39;00m level \u001b[38;5;129;01min\u001b[39;00m level_list:\n\u001b[1;32m     11\u001b[0m     L2_error_list\u001b[38;5;241m.\u001b[39mappend(\n\u001b[0;32m---> 12\u001b[0m         \u001b[43mem\u001b[49m\u001b[38;5;241;43m.\u001b[39;49m\u001b[43mL2_error\u001b[49m\u001b[43m(\u001b[49m\n\u001b[1;32m     13\u001b[0m \u001b[43m                \u001b[49m\u001b[43mdim\u001b[49m\u001b[43m,\u001b[49m\n\u001b[1;32m     14\u001b[0m \u001b[43m                \u001b[49m\u001b[43mlevel\u001b[49m\u001b[43m,\u001b[49m\n\u001b[1;32m     15\u001b[0m \u001b[43m                \u001b[49m\u001b[43mpenalty\u001b[49m\u001b[43m,\u001b[49m\n\u001b[1;32m     16\u001b[0m \u001b[43m                \u001b[49m\u001b[43mnu_list\u001b[49m\u001b[43m,\u001b[49m\n\u001b[1;32m     17\u001b[0m \u001b[43m                \u001b[49m\u001b[43mlengthscale_list\u001b[49m\u001b[43m,\u001b[49m\n\u001b[1;32m     18\u001b[0m \u001b[43m                \u001b[49m\u001b[43msigma_list\u001b[49m\u001b[43m,\u001b[49m\n\u001b[1;32m     19\u001b[0m \u001b[43m                \u001b[49m\u001b[43mno_mc_points\u001b[49m\u001b[43m,\u001b[49m\n\u001b[1;32m     20\u001b[0m \u001b[43m                \u001b[49m\u001b[43mfunc\u001b[49m\n\u001b[1;32m     21\u001b[0m \u001b[43m            \u001b[49m\u001b[43m)\u001b[49m\n\u001b[1;32m     22\u001b[0m         )\n\u001b[1;32m     23\u001b[0m L2_error_list_list\u001b[38;5;241m.\u001b[39mappend(L2_error_list)\n",
      "File \u001b[0;32m~/Documents/History_Matching/PSG/psg_emulator_v2.py:474\u001b[0m, in \u001b[0;36mL2_error\u001b[0;34m(dim, level, penalty, nu_list, lengthscale_list, sigma_list, no_mc_points, func)\u001b[0m\n\u001b[1;32m    463\u001b[0m \u001b[38;5;66;03m# Construct MaternPSGEmulator object.\u001b[39;00m\n\u001b[1;32m    464\u001b[0m PSGEmulatorObject \u001b[38;5;241m=\u001b[39m MaternPSGEmulator(\n\u001b[1;32m    465\u001b[0m \tdim,\n\u001b[1;32m    466\u001b[0m \tlevel,\n\u001b[0;32m   (...)\u001b[0m\n\u001b[1;32m    471\u001b[0m \tsigma_list\n\u001b[1;32m    472\u001b[0m )\n\u001b[0;32m--> 474\u001b[0m \u001b[43mPSGEmulatorObject\u001b[49m\u001b[38;5;241;43m.\u001b[39;49m\u001b[43mcalculate_weights\u001b[49m\u001b[43m(\u001b[49m\u001b[43m)\u001b[49m\n\u001b[1;32m    476\u001b[0m \u001b[38;5;66;03m# Generat MC points for sampling.\u001b[39;00m\n\u001b[1;32m    477\u001b[0m mc_points \u001b[38;5;241m=\u001b[39m np\u001b[38;5;241m.\u001b[39mrandom\u001b[38;5;241m.\u001b[39muniform(\u001b[38;5;241m-\u001b[39m\u001b[38;5;241m0.5\u001b[39m, \u001b[38;5;241m0.5\u001b[39m, (no_mc_points, dim))\n",
      "File \u001b[0;32m~/Documents/History_Matching/PSG/psg_emulator_v2.py:259\u001b[0m, in \u001b[0;36mMaternPSGEmulator.calculate_weights\u001b[0;34m(self)\u001b[0m\n\u001b[1;32m    257\u001b[0m \u001b[38;5;28mprint\u001b[39m(\u001b[38;5;124m'\u001b[39m\u001b[38;5;124mkeys\u001b[39m\u001b[38;5;124m'\u001b[39m)\n\u001b[1;32m    258\u001b[0m \u001b[38;5;28mprint\u001b[39m(keys)\n\u001b[0;32m--> 259\u001b[0m \u001b[38;5;28mprint\u001b[39m(\u001b[43mitemgetter\u001b[49m\u001b[43m(\u001b[49m\u001b[38;5;241;43m*\u001b[39;49m\u001b[43mkeys\u001b[49m\u001b[43m)\u001b[49m\u001b[43m(\u001b[49m\u001b[38;5;28;43mself\u001b[39;49m\u001b[38;5;241;43m.\u001b[39;49m\u001b[43mdict\u001b[49m\u001b[43m)\u001b[49m)\n\u001b[1;32m    260\u001b[0m \u001b[38;5;28mprint\u001b[39m(L)\n\u001b[1;32m    261\u001b[0m data, old_weights \u001b[38;5;241m=\u001b[39m np\u001b[38;5;241m.\u001b[39marray(itemgetter(\u001b[38;5;241m*\u001b[39mkeys)(\u001b[38;5;28mself\u001b[39m\u001b[38;5;241m.\u001b[39mdict))\u001b[38;5;241m.\u001b[39mT\n",
      "\u001b[0;31mKeyError\u001b[0m: (-0.25, 0.0, 0.0, 0.0)"
     ]
    }
   ],
   "source": [
    "for dim in dim_list:\n",
    "    func = randomKernelFunc(\n",
    "        dim,\n",
    "        nu_list,\n",
    "        lengthscale_list,\n",
    "        sigma_list,\n",
    "        num_kernels\n",
    "    )\n",
    "    L2_error_list = []\n",
    "    for level in level_list:\n",
    "        L2_error_list.append(\n",
    "            em.L2_error(\n",
    "                    dim,\n",
    "                    level,\n",
    "                    penalty,\n",
    "                    nu_list,\n",
    "                    lengthscale_list,\n",
    "                    sigma_list,\n",
    "                    no_mc_points,\n",
    "                    func\n",
    "                )\n",
    "            )\n",
    "    L2_error_list_list.append(L2_error_list)\n"
   ]
  },
  {
   "cell_type": "code",
   "execution_count": 130,
   "id": "405582ef",
   "metadata": {},
   "outputs": [
    {
     "data": {
      "text/plain": [
       "<matplotlib.legend.Legend at 0x7fd586add7c0>"
      ]
     },
     "execution_count": 130,
     "metadata": {},
     "output_type": "execute_result"
    },
    {
     "data": {
      "image/png": "[encoded data removed]",
      "text/plain": [
       "<Figure size 640x480 with 1 Axes>"
      ]
     },
     "metadata": {},
     "output_type": "display_data"
    }
   ],
   "source": [
    "fig, ax = plt.subplots()\n",
    "for i, dim in enumerate(dim_list):\n",
    "    ax.plot(level_list, L2_error_list_list[i], label=f'Dim = {dim}')\n",
    "\n",
    "ax.set_yscale('log')\n",
    "ax.legend()"
   ]
  },
  {
   "cell_type": "code",
   "execution_count": 128,
   "id": "cb69a1d2",
   "metadata": {},
   "outputs": [
    {
     "name": "stdout",
     "output_type": "stream",
     "text": [
      "[]\n"
     ]
    }
   ],
   "source": [
    "print(L2_error_list_list)"
   ]
  },
  {
   "cell_type": "code",
   "execution_count": null,
   "id": "cddb8cc8",
   "metadata": {},
   "outputs": [],
   "source": []
  }
 ],
 "metadata": {
  "kernelspec": {
   "display_name": "Python 3 (ipykernel)",
   "language": "python",
   "name": "python3"
  },
  "language_info": {
   "codemirror_mode": {
    "name": "ipython",
    "version": 3
   },
   "file_extension": ".py",
   "mimetype": "text/x-python",
   "name": "python",
   "nbconvert_exporter": "python",
   "pygments_lexer": "ipython3",
   "version": "3.8.8"
  }
 },
 "nbformat": 4,
 "nbformat_minor": 5
}
